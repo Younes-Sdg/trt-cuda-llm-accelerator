{
 "cells": [
  {
   "cell_type": "code",
   "execution_count": null,
   "metadata": {},
   "outputs": [
    {
     "name": "stdout",
     "output_type": "stream",
     "text": [
      "Using GPU.\n",
      "Model and tokenizer loaded from local directory.\n"
     ]
    }
   ],
   "source": [
    "from transformers import GPT2LMHeadModel, GPT2Tokenizer\n",
    "import torch\n",
    "\n",
    "model_path = \"../saved_models/gpt2\"\n",
    "\n",
    "tokenizer = GPT2Tokenizer.from_pretrained(model_path, local_files_only=True)\n",
    "model = GPT2LMHeadModel.from_pretrained(model_path, local_files_only=True)\n",
    "\n",
    "if torch.cuda.is_available():\n",
    "    model = model.to(\"cuda\")\n",
    "    print(\"Using GPU.\")\n",
    "\n",
    "print(\"Model and tokenizer loaded from local directory.\")\n",
    "\n"
   ]
  },
  {
   "cell_type": "code",
   "execution_count": 3,
   "metadata": {},
   "outputs": [
    {
     "name": "stderr",
     "output_type": "stream",
     "text": [
      "d:\\DL\\CUDA_Projects\\trt-cuda-llm-accelerator\\trt-cuda-env\\Lib\\site-packages\\transformers\\generation\\configuration_utils.py:590: UserWarning: `do_sample` is set to `False`. However, `temperature` is set to `0.6` -- this flag is only used in sample-based generation modes. You should set `do_sample=True` or unset `temperature`.\n",
      "  warnings.warn(\n",
      "The attention mask and the pad token id were not set. As a consequence, you may observe unexpected behavior. Please pass your input's `attention_mask` to obtain reliable results.\n",
      "Setting `pad_token_id` to `eos_token_id`:None for open-end generation.\n",
      "The attention mask is not set and cannot be inferred from input because pad token is same as eos token. As a consequence, you may observe unexpected behavior. Please pass your input's `attention_mask` to obtain reliable results.\n"
     ]
    },
    {
     "name": "stdout",
     "output_type": "stream",
     "text": [
      "In the far west, the United States has been the world's largest producer of coal, and the United States is the world's largest producer of natural gas.\n"
     ]
    }
   ],
   "source": [
    "input_text = 'In the far west'\n",
    "\n",
    "inputs = tokenizer.encode(input_text, return_tensors='pt')\n",
    "inputs = inputs.to(model.device)\n",
    "\n",
    "outputs = model.generate(inputs,max_length=32,temperature=0.6)\n",
    "\n",
    "generated_text = tokenizer.decode(outputs[0],skip_special_tokens=True)\n",
    "\n",
    "print(generated_text)"
   ]
  }
 ],
 "metadata": {
  "kernelspec": {
   "display_name": "trt-cuda-env",
   "language": "python",
   "name": "python3"
  },
  "language_info": {
   "codemirror_mode": {
    "name": "ipython",
    "version": 3
   },
   "file_extension": ".py",
   "mimetype": "text/x-python",
   "name": "python",
   "nbconvert_exporter": "python",
   "pygments_lexer": "ipython3",
   "version": "3.12.1"
  }
 },
 "nbformat": 4,
 "nbformat_minor": 2
}
