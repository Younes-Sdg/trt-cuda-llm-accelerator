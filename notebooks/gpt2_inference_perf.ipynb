{
 "cells": [
  {
   "cell_type": "code",
   "execution_count": 3,
   "metadata": {},
   "outputs": [
    {
     "name": "stdout",
     "output_type": "stream",
     "text": [
      "Using GPU.\n",
      "Model and tokenizer loaded from local directory.\n"
     ]
    }
   ],
   "source": [
    "from transformers import GPT2LMHeadModel, GPT2Tokenizer\n",
    "import torch\n",
    "import time\n",
    "\n",
    "model_path = \"../saved_models/gpt2\"\n",
    "\n",
    "tokenizer = GPT2Tokenizer.from_pretrained(model_path, local_files_only=True)\n",
    "model = GPT2LMHeadModel.from_pretrained(model_path, local_files_only=True)\n",
    "\n",
    "if torch.cuda.is_available():\n",
    "    model = model.to(\"cuda\")\n",
    "    print(\"Using GPU.\")\n",
    "\n",
    "print(\"Model and tokenizer loaded from local directory.\")"
   ]
  },
  {
   "cell_type": "code",
   "execution_count": 6,
   "metadata": {},
   "outputs": [
    {
     "name": "stderr",
     "output_type": "stream",
     "text": [
      "The attention mask and the pad token id were not set. As a consequence, you may observe unexpected behavior. Please pass your input's `attention_mask` to obtain reliable results.\n",
      "Setting `pad_token_id` to `eos_token_id`:None for open-end generation.\n"
     ]
    },
    {
     "name": "stdout",
     "output_type": "stream",
     "text": [
      "Inference Latency: 1.1536 seconds\n"
     ]
    }
   ],
   "source": [
    "input_text = \"This is a sample input for GPT-2.\"\n",
    "input_ids = tokenizer.encode(input_text, return_tensors=\"pt\").to(\"cuda\")\n",
    "start_time = time.time()\n",
    "output = model.generate(input_ids, max_length=50, num_return_sequences=1)\n",
    "end_time = time.time()\n",
    "inference_latency = end_time - start_time\n",
    "print(f\"Inference Latency: {inference_latency:.4f} seconds\")"
   ]
  }
 ],
 "metadata": {
  "kernelspec": {
   "display_name": "trt-cuda-env",
   "language": "python",
   "name": "python3"
  },
  "language_info": {
   "codemirror_mode": {
    "name": "ipython",
    "version": 3
   },
   "file_extension": ".py",
   "mimetype": "text/x-python",
   "name": "python",
   "nbconvert_exporter": "python",
   "pygments_lexer": "ipython3",
   "version": "3.12.1"
  }
 },
 "nbformat": 4,
 "nbformat_minor": 2
}
